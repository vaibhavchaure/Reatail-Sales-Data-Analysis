{
 "cells": [
  {
   "cell_type": "code",
   "execution_count": 1,
   "id": "19ee73ce-9796-4b88-bee4-ecc92aa7090b",
   "metadata": {},
   "outputs": [],
   "source": [
    "# 1: Import Libraries\n",
    "import numpy as np\n",
    "import pandas as pd\n",
    "import matplotlib.pyplot as plt\n",
    "import seaborn as sns"
   ]
  },
  {
   "cell_type": "code",
   "execution_count": 2,
   "id": "2588815b-9773-4ba5-8084-2a04ac144218",
   "metadata": {},
   "outputs": [
    {
     "data": {
      "text/html": [
       "<div>\n",
       "<style scoped>\n",
       "    .dataframe tbody tr th:only-of-type {\n",
       "        vertical-align: middle;\n",
       "    }\n",
       "\n",
       "    .dataframe tbody tr th {\n",
       "        vertical-align: top;\n",
       "    }\n",
       "\n",
       "    .dataframe thead th {\n",
       "        text-align: right;\n",
       "    }\n",
       "</style>\n",
       "<table border=\"1\" class=\"dataframe\">\n",
       "  <thead>\n",
       "    <tr style=\"text-align: right;\">\n",
       "      <th></th>\n",
       "      <th>Customer_ID</th>\n",
       "      <th>Customer_Age</th>\n",
       "      <th>Gender</th>\n",
       "      <th>Product_Category</th>\n",
       "      <th>Purchase_Amount</th>\n",
       "      <th>Purchase_Date</th>\n",
       "      <th>Payment_Method</th>\n",
       "      <th>City</th>\n",
       "      <th>Returned</th>\n",
       "    </tr>\n",
       "  </thead>\n",
       "  <tbody>\n",
       "    <tr>\n",
       "      <th>0</th>\n",
       "      <td>1001</td>\n",
       "      <td>56</td>\n",
       "      <td>Female</td>\n",
       "      <td>Electronics</td>\n",
       "      <td>1569</td>\n",
       "      <td>2024-01-01</td>\n",
       "      <td>Cash</td>\n",
       "      <td>Mumbai</td>\n",
       "      <td>No</td>\n",
       "    </tr>\n",
       "    <tr>\n",
       "      <th>1</th>\n",
       "      <td>1002</td>\n",
       "      <td>46</td>\n",
       "      <td>Female</td>\n",
       "      <td>Groceries</td>\n",
       "      <td>2186</td>\n",
       "      <td>2024-01-02</td>\n",
       "      <td>UPI</td>\n",
       "      <td>Pune</td>\n",
       "      <td>No</td>\n",
       "    </tr>\n",
       "    <tr>\n",
       "      <th>2</th>\n",
       "      <td>1003</td>\n",
       "      <td>32</td>\n",
       "      <td>Male</td>\n",
       "      <td>Clothing</td>\n",
       "      <td>346</td>\n",
       "      <td>2024-01-03</td>\n",
       "      <td>Credit Card</td>\n",
       "      <td>Pune</td>\n",
       "      <td>No</td>\n",
       "    </tr>\n",
       "    <tr>\n",
       "      <th>3</th>\n",
       "      <td>1004</td>\n",
       "      <td>60</td>\n",
       "      <td>Male</td>\n",
       "      <td>Electronics</td>\n",
       "      <td>3419</td>\n",
       "      <td>2024-01-04</td>\n",
       "      <td>Cash</td>\n",
       "      <td>Pune</td>\n",
       "      <td>No</td>\n",
       "    </tr>\n",
       "    <tr>\n",
       "      <th>4</th>\n",
       "      <td>1005</td>\n",
       "      <td>25</td>\n",
       "      <td>Male</td>\n",
       "      <td>Electronics</td>\n",
       "      <td>3111</td>\n",
       "      <td>2024-01-05</td>\n",
       "      <td>UPI</td>\n",
       "      <td>Delhi</td>\n",
       "      <td>No</td>\n",
       "    </tr>\n",
       "  </tbody>\n",
       "</table>\n",
       "</div>"
      ],
      "text/plain": [
       "   Customer_ID  Customer_Age  Gender Product_Category  Purchase_Amount  \\\n",
       "0         1001            56  Female      Electronics             1569   \n",
       "1         1002            46  Female        Groceries             2186   \n",
       "2         1003            32    Male         Clothing              346   \n",
       "3         1004            60    Male      Electronics             3419   \n",
       "4         1005            25    Male      Electronics             3111   \n",
       "\n",
       "  Purchase_Date Payment_Method    City Returned  \n",
       "0    2024-01-01           Cash  Mumbai       No  \n",
       "1    2024-01-02            UPI    Pune       No  \n",
       "2    2024-01-03    Credit Card    Pune       No  \n",
       "3    2024-01-04           Cash    Pune       No  \n",
       "4    2024-01-05            UPI   Delhi       No  "
      ]
     },
     "execution_count": 2,
     "metadata": {},
     "output_type": "execute_result"
    }
   ],
   "source": [
    "# 2: load the Dataset\n",
    "df = pd.read_csv(\"retail_sales_data.csv\")\n",
    "df.head()"
   ]
  },
  {
   "cell_type": "code",
   "execution_count": 3,
   "id": "21b5251c-27b2-4125-9188-64b1acf42313",
   "metadata": {},
   "outputs": [
    {
     "name": "stdout",
     "output_type": "stream",
     "text": [
      "<class 'pandas.core.frame.DataFrame'>\n",
      "RangeIndex: 100 entries, 0 to 99\n",
      "Data columns (total 9 columns):\n",
      " #   Column            Non-Null Count  Dtype \n",
      "---  ------            --------------  ----- \n",
      " 0   Customer_ID       100 non-null    int64 \n",
      " 1   Customer_Age      100 non-null    int64 \n",
      " 2   Gender            100 non-null    object\n",
      " 3   Product_Category  100 non-null    object\n",
      " 4   Purchase_Amount   100 non-null    int64 \n",
      " 5   Purchase_Date     100 non-null    object\n",
      " 6   Payment_Method    100 non-null    object\n",
      " 7   City              100 non-null    object\n",
      " 8   Returned          100 non-null    object\n",
      "dtypes: int64(3), object(6)\n",
      "memory usage: 7.2+ KB\n"
     ]
    }
   ],
   "source": [
    "# 3: Understand the dataset\n",
    "df.info()"
   ]
  },
  {
   "cell_type": "code",
   "execution_count": 4,
   "id": "cbd4041e-0774-439f-9a07-382cfc4f153e",
   "metadata": {},
   "outputs": [
    {
     "data": {
      "text/html": [
       "<div>\n",
       "<style scoped>\n",
       "    .dataframe tbody tr th:only-of-type {\n",
       "        vertical-align: middle;\n",
       "    }\n",
       "\n",
       "    .dataframe tbody tr th {\n",
       "        vertical-align: top;\n",
       "    }\n",
       "\n",
       "    .dataframe thead th {\n",
       "        text-align: right;\n",
       "    }\n",
       "</style>\n",
       "<table border=\"1\" class=\"dataframe\">\n",
       "  <thead>\n",
       "    <tr style=\"text-align: right;\">\n",
       "      <th></th>\n",
       "      <th>Customer_ID</th>\n",
       "      <th>Customer_Age</th>\n",
       "      <th>Purchase_Amount</th>\n",
       "    </tr>\n",
       "  </thead>\n",
       "  <tbody>\n",
       "    <tr>\n",
       "      <th>count</th>\n",
       "      <td>100.000000</td>\n",
       "      <td>100.00000</td>\n",
       "      <td>100.000000</td>\n",
       "    </tr>\n",
       "    <tr>\n",
       "      <th>mean</th>\n",
       "      <td>1050.500000</td>\n",
       "      <td>40.88000</td>\n",
       "      <td>2691.720000</td>\n",
       "    </tr>\n",
       "    <tr>\n",
       "      <th>std</th>\n",
       "      <td>29.011492</td>\n",
       "      <td>13.99082</td>\n",
       "      <td>1430.755752</td>\n",
       "    </tr>\n",
       "    <tr>\n",
       "      <th>min</th>\n",
       "      <td>1001.000000</td>\n",
       "      <td>18.00000</td>\n",
       "      <td>216.000000</td>\n",
       "    </tr>\n",
       "    <tr>\n",
       "      <th>25%</th>\n",
       "      <td>1025.750000</td>\n",
       "      <td>30.50000</td>\n",
       "      <td>1402.000000</td>\n",
       "    </tr>\n",
       "    <tr>\n",
       "      <th>50%</th>\n",
       "      <td>1050.500000</td>\n",
       "      <td>41.00000</td>\n",
       "      <td>2740.500000</td>\n",
       "    </tr>\n",
       "    <tr>\n",
       "      <th>75%</th>\n",
       "      <td>1075.250000</td>\n",
       "      <td>53.25000</td>\n",
       "      <td>3863.000000</td>\n",
       "    </tr>\n",
       "    <tr>\n",
       "      <th>max</th>\n",
       "      <td>1100.000000</td>\n",
       "      <td>64.00000</td>\n",
       "      <td>4954.000000</td>\n",
       "    </tr>\n",
       "  </tbody>\n",
       "</table>\n",
       "</div>"
      ],
      "text/plain": [
       "       Customer_ID  Customer_Age  Purchase_Amount\n",
       "count   100.000000     100.00000       100.000000\n",
       "mean   1050.500000      40.88000      2691.720000\n",
       "std      29.011492      13.99082      1430.755752\n",
       "min    1001.000000      18.00000       216.000000\n",
       "25%    1025.750000      30.50000      1402.000000\n",
       "50%    1050.500000      41.00000      2740.500000\n",
       "75%    1075.250000      53.25000      3863.000000\n",
       "max    1100.000000      64.00000      4954.000000"
      ]
     },
     "execution_count": 4,
     "metadata": {},
     "output_type": "execute_result"
    }
   ],
   "source": [
    "df.describe()"
   ]
  },
  {
   "cell_type": "code",
   "execution_count": 5,
   "id": "4862a5be-6bcc-4367-999c-5b772e4007ea",
   "metadata": {},
   "outputs": [
    {
     "data": {
      "text/plain": [
       "Customer_ID         0\n",
       "Customer_Age        0\n",
       "Gender              0\n",
       "Product_Category    0\n",
       "Purchase_Amount     0\n",
       "Purchase_Date       0\n",
       "Payment_Method      0\n",
       "City                0\n",
       "Returned            0\n",
       "dtype: int64"
      ]
     },
     "execution_count": 5,
     "metadata": {},
     "output_type": "execute_result"
    }
   ],
   "source": [
    "df.isnull().sum()"
   ]
  },
  {
   "cell_type": "code",
   "execution_count": 8,
   "id": "45ebcc9d-7f45-4edb-b3b6-3e9e69ce2928",
   "metadata": {},
   "outputs": [
    {
     "data": {
      "text/plain": [
       "Product_Category\n",
       "Electronics    27\n",
       "Home Decor     27\n",
       "Groceries      24\n",
       "Clothing       22\n",
       "Name: count, dtype: int64"
      ]
     },
     "execution_count": 8,
     "metadata": {},
     "output_type": "execute_result"
    }
   ],
   "source": [
    "df['Product_Category'].value_counts()"
   ]
  },
  {
   "cell_type": "code",
   "execution_count": 10,
   "id": "63681f62-cc5a-4c7c-88cf-4d105ce4578c",
   "metadata": {},
   "outputs": [
    {
     "name": "stdout",
     "output_type": "stream",
     "text": [
      "Average Purchase Amount: $ 2691.72\n"
     ]
    }
   ],
   "source": [
    "# Task 1: Find Average purchase amount\n",
    "avg_amount = df['Purchase_Amount'].mean()\n",
    "print(\"Average Purchase Amount: $\", round(avg_amount,2))"
   ]
  },
  {
   "cell_type": "code",
   "execution_count": 12,
   "id": "2287d075-6e82-436b-83d0-9f416148c6d4",
   "metadata": {},
   "outputs": [
    {
     "data": {
      "text/plain": [
       "<function matplotlib.pyplot.show(close=None, block=None)>"
      ]
     },
     "execution_count": 12,
     "metadata": {},
     "output_type": "execute_result"
    },
    {
     "data": {
      "image/png": "[encoded data removed]",
      "text/plain": [
       "<Figure size 640x480 with 1 Axes>"
      ]
     },
     "metadata": {},
     "output_type": "display_data"
    }
   ],
   "source": [
    "# Task 2: Total Sales by Product Category\n",
    "df.groupby('Product_Category')['Purchase_Amount'].sum().plot(kind ='bar', color = 'teal')\n",
    "plt.title(\"Total Sales by product Category\")\n",
    "plt.ylabel(\"Total ales ($)\")\n",
    "plt.show"
   ]
  },
  {
   "cell_type": "code",
   "execution_count": 13,
   "id": "d9beef0d-f7ab-49ba-8259-b125cf22acfc",
   "metadata": {},
   "outputs": [
    {
     "name": "stderr",
     "output_type": "stream",
     "text": [
      "C:\\Users\\HP\\AppData\\Local\\Temp\\ipykernel_6880\\47817415.py:2: FutureWarning: \n",
      "\n",
      "Passing `palette` without assigning `hue` is deprecated and will be removed in v0.14.0. Assign the `x` variable to `hue` and set `legend=False` for the same effect.\n",
      "\n",
      "  sns.countplot(data=df, x='City', palette='viridis')\n"
     ]
    },
    {
     "data": {
      "image/png": "[encoded data removed]",
      "text/plain": [
       "<Figure size 640x480 with 1 Axes>"
      ]
     },
     "metadata": {},
     "output_type": "display_data"
    }
   ],
   "source": [
    "# Task 3: Count of Customer by City\n",
    "sns.countplot(data=df, x='City', palette='viridis')\n",
    "plt.title(\"Customer Count by City\")\n",
    "plt.show()"
   ]
  },
  {
   "cell_type": "code",
   "execution_count": 14,
   "id": "bc17ae21-366f-4b03-b38a-dab508a5a35a",
   "metadata": {},
   "outputs": [
    {
     "data": {
      "image/png": "[encoded data removed]",
      "text/plain": [
       "<Figure size 640x480 with 1 Axes>"
      ]
     },
     "metadata": {},
     "output_type": "display_data"
    }
   ],
   "source": [
    "# Task 4: Returned Product Analysis\n",
    "returned_data = df['Returned'].value_counts()\n",
    "returned_data.plot(kind='pie', autopct='%1.1f%%', startangle=140, colors=['lightcoral','lightgreen'])\n",
    "plt.title(\"Returned Product Ratio\")\n",
    "plt.ylabel(\"\")\n",
    "plt.show()\n"
   ]
  },
  {
   "cell_type": "code",
   "execution_count": 15,
   "id": "d5620715-6f02-440a-9354-87ea68955b24",
   "metadata": {},
   "outputs": [
    {
     "name": "stderr",
     "output_type": "stream",
     "text": [
      "C:\\Users\\HP\\AppData\\Local\\Temp\\ipykernel_6880\\2178133828.py:2: FutureWarning: \n",
      "\n",
      "Passing `palette` without assigning `hue` is deprecated and will be removed in v0.14.0. Assign the `x` variable to `hue` and set `legend=False` for the same effect.\n",
      "\n",
      "  sns.boxplot(data=df, x='Gender', y='Purchase_Amount', palette='coolwarm')\n"
     ]
    },
    {
     "data": {
      "image/png": "[encoded data removed]",
      "text/plain": [
       "<Figure size 640x480 with 1 Axes>"
      ]
     },
     "metadata": {},
     "output_type": "display_data"
    }
   ],
   "source": [
    "# Task 5: Gender-wise Purchase Behavior\n",
    "sns.boxplot(data=df, x='Gender', y='Purchase_Amount', palette='coolwarm')\n",
    "plt.title(\"Purchase Amount by Gender\")\n",
    "plt.show()\n"
   ]
  },
  {
   "cell_type": "code",
   "execution_count": 16,
   "id": "ee8260bc-a88c-47ff-bf96-00b1e4515250",
   "metadata": {},
   "outputs": [],
   "source": [
    "df.to_csv(\"cleaned_retail_sales.csv\", index=False)\n"
   ]
  },
  {
   "cell_type": "code",
   "execution_count": null,
   "id": "11dd16ac-32cc-4b86-aaba-e6cedf9177c2",
   "metadata": {},
   "outputs": [],
   "source": []
  }
 ],
 "metadata": {
  "kernelspec": {
   "display_name": "Python 3 (ipykernel)",
   "language": "python",
   "name": "python3"
  },
  "language_info": {
   "codemirror_mode": {
    "name": "ipython",
    "version": 3
   },
   "file_extension": ".py",
   "mimetype": "text/x-python",
   "name": "python",
   "nbconvert_exporter": "python",
   "pygments_lexer": "ipython3",
   "version": "3.13.2"
  }
 },
 "nbformat": 4,
 "nbformat_minor": 5
}
